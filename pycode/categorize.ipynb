{
 "cells": [
  {
   "cell_type": "markdown",
   "metadata": {},
   "source": [
    "# Data pre-processing"
   ]
  },
  {
   "cell_type": "code",
   "execution_count": 1,
   "metadata": {},
   "outputs": [],
   "source": [
    "import json\n",
    "\n",
    "try:\n",
    "    from constants import ROOT\n",
    "    import sys\n",
    "    sys.path.insert(0, ROOT)\n",
    "except:\n",
    "    print('Could not import ROOT. Check or add manually.')"
   ]
  },
  {
   "cell_type": "code",
   "execution_count": 4,
   "metadata": {},
   "outputs": [
    {
     "name": "stdout",
     "output_type": "stream",
     "text": [
      "The autoreload extension is already loaded. To reload it, use:\n",
      "  %reload_ext autoreload\n"
     ]
    }
   ],
   "source": [
    "from pathlib import Path\n",
    "import shutil\n",
    "from categorize import LABELS, create_new_folders, copy_all_files, rename_all_files, LABELS, \\\n",
    "load_paths, check_for_missing_files, classify, _create_new_folders\n",
    "from PIL import Image\n",
    "import numpy as np\n",
    "import shutil\n",
    "import cv2\n",
    "import os\n",
    "\n",
    "%load_ext autoreload\n",
    "%autoreload 2"
   ]
  },
  {
   "cell_type": "markdown",
   "metadata": {},
   "source": [
    "First we load json file with categorizations:"
   ]
  },
  {
   "cell_type": "code",
   "execution_count": 6,
   "metadata": {},
   "outputs": [],
   "source": [
    "label_type = 'labeled'\n",
    "image_paths, mask_paths = load_paths(label_type)\n",
    "# test_show_images(image_paths, mask_paths)\n",
    "check_for_missing_files(image_paths, mask_paths)"
   ]
  },
  {
   "cell_type": "markdown",
   "metadata": {},
   "source": [
    "The following should be done outside jupyter since cv2.imshow will cause Jupyter to freeze (sort of). There are ways to find a workaround but not worth it right now."
   ]
  },
  {
   "cell_type": "code",
   "execution_count": 11,
   "metadata": {},
   "outputs": [],
   "source": [
    "# user_qc_filepath = classify(image_paths, mask_paths, label_type)"
   ]
  },
  {
   "cell_type": "code",
   "execution_count": 5,
   "metadata": {},
   "outputs": [],
   "source": [
    "user_qc_filepath = LABELS / label_type / '20230109_111626_rack.json'"
   ]
  },
  {
   "cell_type": "code",
   "execution_count": 6,
   "metadata": {
    "collapsed": true
   },
   "outputs": [
    {
     "name": "stdout",
     "output_type": "stream",
     "text": [
      "{'rack_20211128_row9_col78.png': 'a', 'rack_20211128_row9_col83.png': 'a', 'rack_20211128_row9_col82.png': 'a', 'samson_20211128_row9_col79.png': 'a', 'samson_20211128_row10_col83.png': 'a', 'samson_20211128_row59_col85.png': 'a', 'rack_20211128_row9_col80.png': 'a', 'rack_20211128_row9_col81.png': 'a', 'samson_20211012_row26_col48.png': 'a', 'samson_20211128_row10_col80.png': 'b', 'samson_20211128_row59_col79.png': 'a', 'samson_20211128_row14_col48.png': 'a', 'samson_20211012_row30_col50.png': 'a', 'samson_20211012_row21_col77.png': 'a', 'samson_20211128_row11_col84.png': 'a', 'samson_20211012_row22_col80.png': 'a', 'samson_20211128_row22_col82.png': 'a', 'samson_20211128_row22_col83.png': 'a', 'samson_20211012_row22_col81.png': 'a', 'samson_20211128_row11_col85.png': 'a', 'samson_20211012_row30_col51.png': 'a', 'samson_20211012_row21_col76.png': 'a', 'samson_20211012_row9_col76.png': 'a', 'samson_20211128_row17_col80.png': 'a', 'samson_20211128_row21_col76.png': 'a', 'samson_20211012_row22_col83.png': 'a', 'samson_20211128_row22_col81.png': 'a', 'samson_20211128_row11_col79.png': 'a', 'samson_20211012_row22_col82.png': 'a', 'samson_20211012_row30_col52.png': 'a', 'samson_20211128_row21_col77.png': 'a', 'samson_20211128_row17_col81.png': 'a', 'samson_20211012_row17_col83.png': 'a', 'samson_20211012_row9_col77.png': 'a', 'samson_20211012_row19_col77.png': 'a', 'samson_20211128_row11_col82.png': 'a', 'samson_20211012_row22_col79.png': 'a', 'samson_20211012_row22_col78.png': 'a', 'samson_20211128_row11_col83.png': 'a', 'samson_20211012_row27_col49.png': 'a', 'samson_20211012_row17_col84.png': 'a', 'samson_20211128_row17_col79.png': 'b', 'samson_20211128_row11_col81.png': 'a', 'samson_20211128_row22_col78.png': 'a', 'samson_20211012_row33_col49.png': 'a', 'samson_20211012_row22_col84.png': 'a', 'samson_20211128_row22_col79.png': 'a', 'samson_20211128_row17_col78.png': 'a', 'samson_20211012_row27_col48.png': 'a', 'samson_20211128_row19_col81.png': 'a', 'samson_20211012_row27_col45.png': 'a', 'samson_20211012_row9_col83.png': 'a', 'samson_20211012_row19_col83.png': 'a', 'samson_20211012_row21_col81.png': 'a', 'samson_20211128_row12_col85.png': 'a', 'samson_20211128_row49_col84.png': 'a', 'samson_20211128_row21_col83.png': 'a', 'rack_20211012_row19_col76.png': 'a', 'samson_20211012_row22_col76.png': 'a', 'samson_20211012_row33_col51.png': 'a', 'samson_20211012_row22_col77.png': 'a', 'samson_20211012_row33_col50.png': 'a', 'samson_20211128_row21_col82.png': 'a', 'samson_20211128_row49_col85.png': 'b', 'samson_20211128_row12_col84.png': 'a', 'samson_20211128_row50_col86.png': 'a', 'samson_20211012_row19_col82.png': 'a', 'samson_20211012_row27_col50.png': 'a', 'samson_20211012_row9_col82.png': 'a', 'samson_20211012_row27_col44.png': 'a', 'samson_20211128_row19_col80.png': 'a', 'samson_20211012_row9_col80.png': 'a', 'samson_20211012_row27_col52.png': 'a', 'samson_20211012_row27_col46.png': 'a', 'samson_20211012_row19_col80.png': 'a', 'samson_20211128_row17_col76.png': 'a', 'samson_20211128_row50_col84.png': 'b', 'samson_20211128_row12_col86.png': 'b', 'samson_20211012_row21_col82.png': 'a', 'samson_20211128_row21_col80.png': 'a', 'samson_20211128_row22_col77.png': 'a', 'samson_20211012_row33_col52.png': 'a', 'samson_20211128_row22_col76.png': 'a', 'samson_20211128_row21_col81.png': 'a', 'samson_20211012_row21_col83.png': 'a', 'samson_20211128_row12_col87.png': 'a', 'samson_20211128_row50_col85.png': 'a', 'samson_20211128_row17_col77.png': 'a', 'samson_20211012_row19_col81.png': 'a', 'samson_20211012_row27_col47.png': 'a', 'samson_20211012_row9_col81.png': 'a', 'samson_20211012_row27_col53.png': 'b', 'samson_20211012_row27_col43.png': 'a', 'samson_20211128_row19_col78.png': 'a', 'samson_20211128_row12_col83.png': 'b', 'samson_20211012_row21_col78.png': 'a', 'samson_20211128_row49_col82.png': 'b', 'samson_20211012_row21_col79.png': 'a', 'samson_20211128_row12_col82.png': 'a', 'samson_20211012_row19_col84.png': 'a', 'samson_20211128_row19_col79.png': 'b', 'samson_20211128_row14_col46.png': 'b', 'samson_20211012_row19_col79.png': 'a', 'samson_20211012_row9_col79.png': 'a', 'samson_20211128_row21_col79.png': 'b', 'samson_20211012_row21_col84.png': 'a', 'samson_20211128_row12_col80.png': 'a', 'samson_20211012_row30_col48.png': 'a', 'samson_20211128_row49_col81.png': 'a', 'rack_20211012_row18_col76.png': 'a', 'rack_20211012_row28_col50.png': 'a', 'rack_20211012_row34_col48.png': 'a', 'rack_20211128_row59_col81.png': 'a', 'rack_20211128_row10_col79.png': 'a', 'rack_20211128_row20_col77.png': 'a', 'rack_20211012_row34_col49.png': 'a', 'rack_20211012_row18_col77.png': 'a', 'rack_20211128_row18_col77.png': 'b', 'rack_20211128_row59_col82.png': 'a', 'rack_20211012_row20_col77.png': 'a', 'rack_20211128_row10_col85.png': 'a', 'rack_20211128_row59_col83.png': 'a', 'rack_20211012_row20_col76.png': 'a', 'rack_20211012_row28_col52.png': 'a', 'rack_20211128_row18_col76.png': 'b', 'rack_20211128_row10_col81.png': 'a', 'rack_20211128_row59_col84.png': 'a'}\n"
     ]
    }
   ],
   "source": [
    "with open(user_qc_filepath, 'r') as f:\n",
    "    user_qc = json.load(f)\n",
    "print(user_qc)"
   ]
  },
  {
   "cell_type": "markdown",
   "metadata": {},
   "source": [
    "convert the single letter labels to longer labels:"
   ]
  },
  {
   "cell_type": "code",
   "execution_count": 7,
   "metadata": {},
   "outputs": [
    {
     "data": {
      "text/plain": [
       "{'a', 'b'}"
      ]
     },
     "execution_count": 7,
     "metadata": {},
     "output_type": "execute_result"
    }
   ],
   "source": [
    "single_char_labels = set(user_qc.values())\n",
    "single_char_labels"
   ]
  },
  {
   "cell_type": "markdown",
   "metadata": {},
   "source": [
    "**TOUCHPOINT** enter the new mapping between single char label and long names:"
   ]
  },
  {
   "cell_type": "code",
   "execution_count": 8,
   "metadata": {},
   "outputs": [],
   "source": [
    "mapping = {'a': 'goodrack', 'b': 'badrack'}"
   ]
  },
  {
   "cell_type": "code",
   "execution_count": 9,
   "metadata": {},
   "outputs": [
    {
     "name": "stdout",
     "output_type": "stream",
     "text": [
      "Mapping is {'a': 'goodrack', 'b': 'badrack'}\n"
     ]
    }
   ],
   "source": [
    "assert len(mapping) == len(single_char_labels)\n",
    "assert len(mapping) == len(set(mapping.values()))\n",
    "new_user_qc = {name: mapping[single_char_label] for name, single_char_label in user_qc.items()}\n",
    "print(f'Mapping is {mapping}')"
   ]
  },
  {
   "cell_type": "markdown",
   "metadata": {},
   "source": [
    "Create new folders based on the labels in the QC file:"
   ]
  },
  {
   "cell_type": "code",
   "execution_count": 10,
   "metadata": {},
   "outputs": [
    {
     "name": "stdout",
     "output_type": "stream",
     "text": [
      "Created /Users/nenad.bozinovic/PycharmProjects/solar_panel/data/all_labels/rack/goodrack.\n",
      "Created /Users/nenad.bozinovic/PycharmProjects/solar_panel/data/all_labels/rack/goodrack/imgs.\n",
      "Created /Users/nenad.bozinovic/PycharmProjects/solar_panel/data/all_labels/rack/goodrack/masks.\n",
      "Created /Users/nenad.bozinovic/PycharmProjects/solar_panel/data/all_labels/rack/badrack.\n",
      "Created /Users/nenad.bozinovic/PycharmProjects/solar_panel/data/all_labels/rack/badrack/imgs.\n",
      "Created /Users/nenad.bozinovic/PycharmProjects/solar_panel/data/all_labels/rack/badrack/masks.\n"
     ]
    }
   ],
   "source": [
    "create_new_folders(label_type, mapping.values())"
   ]
  },
  {
   "cell_type": "markdown",
   "metadata": {},
   "source": [
    "Copy all the images into a folder based on their label:"
   ]
  },
  {
   "cell_type": "code",
   "execution_count": 11,
   "metadata": {},
   "outputs": [
    {
     "name": "stdout",
     "output_type": "stream",
     "text": [
      "Copied 2 x 63 files.\n"
     ]
    }
   ],
   "source": [
    "copy_all_files(new_user_qc, LABELS / label_type)"
   ]
  },
  {
   "cell_type": "markdown",
   "metadata": {},
   "source": [
    "Rename all files:"
   ]
  },
  {
   "cell_type": "code",
   "execution_count": 16,
   "metadata": {},
   "outputs": [],
   "source": [
    "mapping.update({'rack': 'goodrack'})"
   ]
  },
  {
   "cell_type": "code",
   "execution_count": 17,
   "metadata": {},
   "outputs": [
    {
     "data": {
      "text/plain": [
       "{'a': 'goodrack', 'b': 'badrack', 'rack': 'goodrack'}"
      ]
     },
     "execution_count": 17,
     "metadata": {},
     "output_type": "execute_result"
    }
   ],
   "source": [
    "mapping"
   ]
  },
  {
   "cell_type": "code",
   "execution_count": 21,
   "metadata": {},
   "outputs": [
    {
     "data": {
      "text/plain": [
       "{'badrack', 'goodrack'}"
      ]
     },
     "execution_count": 21,
     "metadata": {},
     "output_type": "execute_result"
    }
   ],
   "source": [
    "set(mapping.values())"
   ]
  },
  {
   "cell_type": "code",
   "execution_count": 22,
   "metadata": {},
   "outputs": [
    {
     "name": "stdout",
     "output_type": "stream",
     "text": [
      "Renamed 26 files.\n",
      "Renamed 228 files.\n"
     ]
    }
   ],
   "source": [
    "for new_label in set(mapping.values()):\n",
    "    rename_all_files(LABELS / label_type / new_label, 'samson', new_label)"
   ]
  },
  {
   "cell_type": "code",
   "execution_count": 39,
   "metadata": {},
   "outputs": [
    {
     "name": "stdout",
     "output_type": "stream",
     "text": [
      "Renamed 228 files.\n"
     ]
    }
   ],
   "source": [
    "rename_all_files(LABELS / label_type, 'rack', 'commonrack')"
   ]
  },
  {
   "cell_type": "markdown",
   "metadata": {},
   "source": [
    "# Add background-only training images"
   ]
  },
  {
   "cell_type": "markdown",
   "metadata": {},
   "source": [
    "Let's create a background mask:"
   ]
  },
  {
   "cell_type": "code",
   "execution_count": 14,
   "metadata": {},
   "outputs": [],
   "source": [
    "background_mask = Image.fromarray(np.zeros([256, 256], dtype=np.uint8))"
   ]
  },
  {
   "cell_type": "code",
   "execution_count": 15,
   "metadata": {},
   "outputs": [],
   "source": [
    "label_type = 'background1'\n",
    "background_mask.save(LABELS / label_type / 'masks/background.png')"
   ]
  },
  {
   "cell_type": "markdown",
   "metadata": {},
   "source": [
    "get all the names from `imgs` folder:"
   ]
  },
  {
   "cell_type": "code",
   "execution_count": 17,
   "metadata": {},
   "outputs": [],
   "source": [
    "image_paths, mask_paths = load_paths(label_type)"
   ]
  },
  {
   "cell_type": "code",
   "execution_count": 18,
   "metadata": {},
   "outputs": [],
   "source": [
    "dst_folder = LABELS / label_type / 'masks'\n",
    "for image_path in image_paths:\n",
    "    shutil.copy(dst_folder / 'background.png', dst_folder / image_path.name)\n",
    "os.remove(dst_folder / 'background.png')"
   ]
  },
  {
   "cell_type": "markdown",
   "metadata": {},
   "source": [
    "Final check:"
   ]
  },
  {
   "cell_type": "code",
   "execution_count": 27,
   "metadata": {},
   "outputs": [],
   "source": [
    "image_paths, mask_paths = load_paths(label_type)\n",
    "check_for_missing_files(image_paths, mask_paths)"
   ]
  },
  {
   "cell_type": "markdown",
   "metadata": {},
   "source": [
    "# Combine to train"
   ]
  },
  {
   "cell_type": "code",
   "execution_count": 44,
   "metadata": {},
   "outputs": [
    {
     "name": "stdout",
     "output_type": "stream",
     "text": [
      "Created /Users/nenad.bozinovic/PycharmProjects/solar/data/labeled.\n",
      "Created /Users/nenad.bozinovic/PycharmProjects/solar/data/labeled/imgs.\n",
      "Created /Users/nenad.bozinovic/PycharmProjects/solar/data/labeled/masks.\n"
     ]
    }
   ],
   "source": [
    "train_folder = Path(ROOT) / 'data/labeled'\n",
    "_create_new_folders(train_folder)"
   ]
  },
  {
   "cell_type": "code",
   "execution_count": 45,
   "metadata": {},
   "outputs": [],
   "source": [
    "folders_to_combine = [LABELS / label_type for label_type in ['background',\n",
    "                                                             'commonrack',\n",
    "                                                             'commonpanel',\n",
    "                                                             'densepanel',\n",
    "                                                             'denserack']]"
   ]
  },
  {
   "cell_type": "markdown",
   "metadata": {},
   "source": [
    "For each folder in `folders_to_combine`, copy everything from `folder / 'imgs'` to go to `train_folder / 'imgs'`, same for `masks`:"
   ]
  },
  {
   "cell_type": "code",
   "execution_count": 46,
   "metadata": {},
   "outputs": [],
   "source": [
    "for folder in folders_to_combine:\n",
    "    for subfolder in ['imgs', 'masks']:\n",
    "        src_folder = folder / subfolder\n",
    "        dst_folder = train_folder / subfolder\n",
    "        for src_filepath in src_folder.glob('*.*'):\n",
    "            shutil.copy(src_filepath, dst_folder / src_filepath.name)"
   ]
  },
  {
   "cell_type": "code",
   "execution_count": 52,
   "metadata": {},
   "outputs": [],
   "source": [
    "check_for_missing_files(*load_paths('labeled'))"
   ]
  }
 ],
 "metadata": {
  "kernelspec": {
   "display_name": "solar_panel",
   "language": "python",
   "name": "solar_panel"
  },
  "language_info": {
   "codemirror_mode": {
    "name": "ipython",
    "version": 3
   },
   "file_extension": ".py",
   "mimetype": "text/x-python",
   "name": "python",
   "nbconvert_exporter": "python",
   "pygments_lexer": "ipython3",
   "version": "3.10.8"
  },
  "toc": {
   "base_numbering": 1,
   "nav_menu": {},
   "number_sections": true,
   "sideBar": true,
   "skip_h1_title": false,
   "title_cell": "Table of Contents",
   "title_sidebar": "Contents",
   "toc_cell": false,
   "toc_position": {},
   "toc_section_display": true,
   "toc_window_display": false
  }
 },
 "nbformat": 4,
 "nbformat_minor": 1
}
