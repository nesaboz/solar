{
 "cells": [
  {
   "cell_type": "markdown",
   "source": [
    "# Data cleaning"
   ],
   "metadata": {
    "collapsed": false
   }
  },
  {
   "cell_type": "code",
   "execution_count": 1,
   "outputs": [],
   "source": [
    "import json\n",
    "\n",
    "try:\n",
    "    from constants import ROOT\n",
    "    import sys\n",
    "    sys.path.insert(0, ROOT)\n",
    "except:\n",
    "    print('Could not import ROOT. Check or add manually.')"
   ],
   "metadata": {
    "collapsed": false
   }
  },
  {
   "cell_type": "code",
   "execution_count": 2,
   "outputs": [],
   "source": [
    "from pathlib import Path\n",
    "import shutil\n",
    "from categorize import create_new_folders, copy_all_files, rename_all_files, LABELS, load_paths, check_for_missing_files, classify, _create_new_folders\n",
    "\n",
    "%load_ext autoreload\n",
    "%autoreload 2"
   ],
   "metadata": {
    "collapsed": false
   }
  },
  {
   "cell_type": "markdown",
   "source": [
    "First we load json file with categorizations:"
   ],
   "metadata": {
    "collapsed": false
   }
  },
  {
   "cell_type": "code",
   "execution_count": 8,
   "outputs": [
    {
     "name": "stdout",
     "output_type": "stream",
     "text": [
      "Images are shown on desktop.\n",
      "Press any button to go to the next (if needed click on an image window too; Q (capital) to break).\n",
      "Generated /Users/nenad.bozinovic/PycharmProjects/solar_panel/data/all_labels/to_sort/20230106_163149_to_sort.json.\n"
     ]
    }
   ],
   "source": [
    "label_type = 'to_sort'\n",
    "image_paths, mask_paths = load_paths(label_type)\n",
    "# test_show_images(image_paths, mask_paths)\n",
    "check_for_missing_files(image_paths, mask_paths)\n",
    "user_qc_filepath = classify(image_paths, mask_paths, label_type)"
   ],
   "metadata": {
    "collapsed": false
   }
  },
  {
   "cell_type": "code",
   "execution_count": 19,
   "outputs": [],
   "source": [
    "user_qc_filepath = LABELS / label_type / '20230106_160756_to_sort.json'"
   ],
   "metadata": {
    "collapsed": false
   }
  },
  {
   "cell_type": "code",
   "execution_count": 11,
   "metadata": {
    "collapsed": true
   },
   "outputs": [
    {
     "name": "stdout",
     "output_type": "stream",
     "text": [
      "{'samson_20211128_row62_col8.png': 'b', 'samson_20211128_row63_col8.png': 'b', 'samson_20211128_row60_col20.png': 'b', 'samson_20211128_row59_col82.png': 'r', 'samson_20211012_row20_col77.png': 'r', 'samson_20211128_row52_col0.png': 'b', 'samson_20211128_row63_col14.png': 'b', 'samson_20211128_row53_col0.png': 'b', 'samson_20211128_row85_col36.png': 'b', 'samson_20211128_row9_col81.png': 'r', 'samson_20211128_row18_col77.png': 'r', 'samson_20211128_row65_col13.png': 'b', 'samson_20211128_row56_col14.png': 'b', 'samson_20211012_row28_col52.png': 'r', 'samson_20211128_row65_col12.png': 'b', 'samson_20211128_row18_col76.png': 'r', 'samson_20211128_row9_col80.png': 'r', 'samson_20211128_row66_col26.png': 'b', 'samson_20211128_row53_col1.png': 'b', 'samson_20211128_row52_col1.png': 'b', 'samson_20211128_row63_col15.png': 'b', 'samson_20211128_row10_col85.png': 'r', 'samson_20211128_row59_col83.png': 'r', 'samson_20211012_row20_col76.png': 'r', 'samson_20211128_row60_col21.png': 'b', 'samson_20211128_row63_col9.png': 'b', 'samson_20211128_row62_col9.png': 'b', 'samson_20211128_row56_col9.png': 'b', 'samson_20211128_row59_col81.png': 'r', 'samson_20211128_row85_col35.png': 'b', 'samson_20211128_row53_col3.png': 'b', 'samson_20211128_row63_col17.png': 'b', 'samson_20211128_row52_col3.png': 'b', 'samson_20211012_row18_col76.png': 'r', 'samson_20211128_row66_col24.png': 'b', 'samson_20211128_row9_col82.png': 'r', 'samson_20211128_row66_col18.png': 'b', 'samson_20211012_row34_col48.png': 'r', 'samson_20211128_row84_col42.png': 'b', 'samson_20211012_row28_col50.png': 'r', 'samson_20211128_row84_col43.png': 'b', 'samson_20211012_row34_col49.png': 'r', 'samson_20211128_row66_col19.png': 'b', 'samson_20211128_row9_col83.png': 'r', 'samson_20211012_row18_col77.png': 'r', 'samson_20211128_row66_col25.png': 'b', 'samson_20211128_row63_col16.png': 'b', 'samson_20211128_row52_col2.png': 'b', 'samson_20211128_row85_col34.png': 'b', 'samson_20211128_row53_col2.png': 'b', 'samson_20211128_row10_col79.png': 'r', 'samson_20211128_row60_col22.png': 'b', 'samson_20211128_row56_col8.png': 'b', 'samson_20211128_row20_col77.png': 'r', 'samson_20211128_row59_col84.png': 'r', 'samson_20211128_row53_col6.png': 'b', 'samson_20211128_row52_col6.png': 'b', 'samson_20211128_row63_col12.png': 'b', 'samson_20211128_row66_col21.png': 'b', 'samson_20211128_row9_col78.png': 'r', 'samson_20211128_row65_col15.png': 'b', 'samson_20211128_row56_col13.png': 'b', 'samson_20211128_row84_col46.png': 'b', 'samson_20211128_row56_col12.png': 'b', 'samson_20211128_row65_col14.png': 'b', 'samson_20211128_row66_col20.png': 'b', 'samson_20211128_row52_col7.png': 'b', 'samson_20211128_row63_col13.png': 'b', 'samson_20211128_row53_col7.png': 'b', 'samson_20211128_row60_col19.png': 'b', 'samson_20211128_row10_col81.png': 'r', 'samson_20211128_row63_col11.png': 'b', 'samson_20211128_row52_col5.png': 'b', 'samson_20211128_row53_col5.png': 'b', 'samson_20211128_row66_col22.png': 'b', 'samson_20211128_row65_col16.png': 'b', 'samson_20211128_row56_col10.png': 'b', 'samson_20211128_row84_col44.png': 'b', 'samson_20211128_row84_col45.png': 'b', 'samson_20211128_row56_col11.png': 'b', 'samson_20211128_row65_col17.png': 'b', 'samson_20211128_row66_col23.png': 'b', 'samson_20211128_row53_col4.png': 'b', 'samson_20211128_row63_col10.png': 'b', 'samson_20211128_row52_col4.png': 'b', 'samson_20211128_row60_col18.png': 'b', 'samson_20211128_row54_col6.png': 'b', 'samson_20211128_row55_col6.png': 'b', 'samson_20211128_row64_col13.png': 'b', 'samson_20211128_row61_col20.png': 'b', 'samson_20211128_row62_col14.png': 'b', 'samson_20211128_row62_col28.png': 'b', 'samson_20211128_row62_col15.png': 'b', 'samson_20211128_row61_col21.png': 'b', 'samson_20211128_row64_col12.png': 'b', 'samson_20211128_row55_col7.png': 'b', 'samson_20211128_row54_col7.png': 'b', 'samson_20211128_row61_col7.png': 'b', 'samson_20211128_row60_col7.png': 'b', 'samson_20211012_row19_col76.png': 'r', 'samson_20211128_row55_col5.png': 'b', 'samson_20211128_row54_col5.png': 'b', 'samson_20211012_row17_col55.png': 'b', 'samson_20211128_row85_col42.png': 'b', 'samson_20211128_row61_col23.png': 'b', 'samson_20211128_row62_col17.png': 'b', 'samson_20211128_row62_col16.png': 'b', 'samson_20211128_row61_col22.png': 'b', 'samson_20211128_row85_col43.png': 'b', 'samson_20211128_row64_col11.png': 'b', 'samson_20211128_row54_col4.png': 'b', 'samson_20211128_row55_col4.png': 'b', 'samson_20211128_row55_col0.png': 'b', 'samson_20211128_row54_col0.png': 'b', 'samson_20211128_row64_col15.png': 'b', 'samson_20211128_row85_col47.png': 'b', 'samson_20211128_row61_col32.png': 'b', 'samson_20211128_row61_col26.png': 'b', 'samson_20211128_row62_col12.png': 'b', 'samson_20211128_row62_col13.png': 'b', 'samson_20211128_row61_col27.png': 'b', 'samson_20211128_row61_col33.png': 'b', 'samson_20211128_row85_col46.png': 'b', 'samson_20211128_row64_col14.png': 'b', 'samson_20211128_row54_col1.png': 'b', 'samson_20211128_row55_col1.png': 'b', 'samson_20211128_row54_col3.png': 'b', 'samson_20211128_row55_col3.png': 'b', 'samson_20211128_row64_col16.png': 'b', 'samson_20211128_row85_col44.png': 'b', 'samson_20211128_row61_col19.png': 'b', 'samson_20211128_row61_col25.png': 'b', 'samson_20211128_row61_col31.png': 'b', 'samson_20211128_row62_col11.png': 'b', 'samson_20211128_row62_col10.png': 'b', 'samson_20211128_row61_col30.png': 'b', 'samson_20211128_row61_col24.png': 'b', 'samson_20211128_row61_col18.png': 'b', 'samson_20211128_row85_col45.png': 'b', 'samson_20211128_row64_col17.png': 'b', 'samson_20211128_row55_col2.png': 'b', 'samson_20211128_row54_col2.png': 'b', 'samson_20211128_row51_col5.png': 'b', 'samson_20211128_row64_col26.png': 'b', 'samson_20211128_row85_col48.png': 'b', 'samson_20211128_row61_col29.png': 'b', 'samson_20211128_row62_col21.png': 'b', 'samson_20211128_row62_col20.png': 'b', 'samson_20211128_row61_col28.png': 'b', 'samson_20211128_row61_col14.png': 'b', 'samson_20211128_row51_col4.png': 'b', 'samson_20211128_row59_col14.png': 'b', 'samson_20211128_row64_col19.png': 'b', 'samson_20211128_row51_col6.png': 'b', 'samson_20211128_row64_col25.png': 'b', 'samson_20211128_row61_col16.png': 'b', 'samson_20211128_row62_col22.png': 'b', 'samson_20211012_row53_col1.png': 'b', 'samson_20211128_row62_col23.png': 'b', 'samson_20211128_row61_col17.png': 'b', 'samson_20211128_row64_col24.png': 'b', 'samson_20211128_row51_col7.png': 'b', 'samson_20211128_row64_col18.png': 'b', 'samson_20211128_row59_col11.png': 'b', 'samson_20211128_row55_col9.png': 'b', 'samson_20211128_row64_col20.png': 'b', 'samson_20211128_row51_col3.png': 'b', 'samson_20211128_row61_col13.png': 'b', 'samson_20211128_row62_col27.png': 'b', 'samson_20211128_row62_col33.png': 'b', 'samson_20211128_row62_col32.png': 'b', 'samson_20211128_row62_col26.png': 'b', 'samson_20211128_row61_col12.png': 'b', 'samson_20211128_row51_col2.png': 'b', 'samson_20211128_row64_col21.png': 'b', 'samson_20211128_row55_col8.png': 'b', 'samson_20211128_row59_col10.png': 'b', 'samson_20211128_row61_col8.png': 'b', 'samson_20211128_row59_col12.png': 'b', 'samson_20211128_row60_col8.png': 'b', 'samson_20211128_row64_col23.png': 'b', 'samson_20211128_row51_col0.png': 'b', 'samson_20211128_row50_col0.png': 'b', 'samson_20211128_row61_col10.png': 'b', 'samson_20211128_row62_col18.png': 'b', 'samson_20211128_row62_col30.png': 'b', 'samson_20211128_row62_col24.png': 'b', 'samson_20211128_row62_col25.png': 'b', 'samson_20211128_row62_col31.png': 'b', 'samson_20211128_row62_col19.png': 'b'}\n"
     ]
    }
   ],
   "source": [
    "with open(user_qc_filepath, 'r') as f:\n",
    "    user_qc = json.load(f)\n",
    "print(user_qc)"
   ]
  },
  {
   "cell_type": "markdown",
   "source": [
    "convert the single letter labels to longer labels:"
   ],
   "metadata": {
    "collapsed": false
   }
  },
  {
   "cell_type": "code",
   "execution_count": 14,
   "outputs": [
    {
     "data": {
      "text/plain": "{'b', 'r'}"
     },
     "execution_count": 14,
     "metadata": {},
     "output_type": "execute_result"
    }
   ],
   "source": [
    "single_char_labels = set(user_qc.values())\n",
    "single_char_labels"
   ],
   "metadata": {
    "collapsed": false
   }
  },
  {
   "cell_type": "markdown",
   "source": [
    "**TOUCHPOINT** enter the new mapping between single char label and long names:"
   ],
   "metadata": {
    "collapsed": false
   }
  },
  {
   "cell_type": "code",
   "execution_count": 15,
   "outputs": [],
   "source": [
    "mapping = {'b': 'commonpanel', 'r': 'rack'}"
   ],
   "metadata": {
    "collapsed": false
   }
  },
  {
   "cell_type": "code",
   "execution_count": 16,
   "outputs": [
    {
     "name": "stdout",
     "output_type": "stream",
     "text": [
      "Mapping is {'b': 'commonpanel', 'r': 'rack'}\n"
     ]
    }
   ],
   "source": [
    "assert len(mapping) == len(single_char_labels)\n",
    "assert len(mapping) == len(set(mapping.values()))\n",
    "new_user_qc = {name: mapping[single_char_label] for name, single_char_label in user_qc.items()}\n",
    "print(f'Mapping is {mapping}')"
   ],
   "metadata": {
    "collapsed": false
   }
  },
  {
   "cell_type": "markdown",
   "source": [
    "Create new folders based on the labels in the QC file:"
   ],
   "metadata": {
    "collapsed": false
   }
  },
  {
   "cell_type": "code",
   "execution_count": 17,
   "outputs": [
    {
     "name": "stdout",
     "output_type": "stream",
     "text": [
      "Created /Users/nenad.bozinovic/PycharmProjects/solar_panel/data/all_labels/to_sort/commonpanel.\n",
      "Created /Users/nenad.bozinovic/PycharmProjects/solar_panel/data/all_labels/to_sort/commonpanel/imgs.\n",
      "Created /Users/nenad.bozinovic/PycharmProjects/solar_panel/data/all_labels/to_sort/commonpanel/masks.\n",
      "Created /Users/nenad.bozinovic/PycharmProjects/solar_panel/data/all_labels/to_sort/rack.\n",
      "Created /Users/nenad.bozinovic/PycharmProjects/solar_panel/data/all_labels/to_sort/rack/imgs.\n",
      "Created /Users/nenad.bozinovic/PycharmProjects/solar_panel/data/all_labels/to_sort/rack/masks.\n"
     ]
    }
   ],
   "source": [
    "create_new_folders(label_type, mapping.values())"
   ],
   "metadata": {
    "collapsed": false
   }
  },
  {
   "cell_type": "markdown",
   "source": [
    "Copy all the images into a folder based on their label:"
   ],
   "metadata": {
    "collapsed": false
   }
  },
  {
   "cell_type": "code",
   "execution_count": 18,
   "outputs": [
    {
     "name": "stdout",
     "output_type": "stream",
     "text": [
      "Copied 2 x 95 files.\n"
     ]
    }
   ],
   "source": [
    "copy_all_files(new_user_qc, LABELS / label_type)"
   ],
   "metadata": {
    "collapsed": false
   }
  },
  {
   "cell_type": "markdown",
   "source": [
    "Rename all files:"
   ],
   "metadata": {
    "collapsed": false
   }
  },
  {
   "cell_type": "code",
   "execution_count": 20,
   "outputs": [
    {
     "data": {
      "text/plain": "{'b': 'commonpanel', 'r': 'rack'}"
     },
     "execution_count": 20,
     "metadata": {},
     "output_type": "execute_result"
    }
   ],
   "source": [
    "mapping"
   ],
   "metadata": {
    "collapsed": false
   }
  },
  {
   "cell_type": "code",
   "execution_count": 21,
   "outputs": [
    {
     "name": "stdout",
     "output_type": "stream",
     "text": [
      "Renamed 332 files.\n",
      "Renamed 48 files.\n"
     ]
    }
   ],
   "source": [
    "for new_label in mapping.values():\n",
    "    rename_all_files(LABELS / label_type / new_label, 'samson', new_label)"
   ],
   "metadata": {
    "collapsed": false
   }
  },
  {
   "cell_type": "markdown",
   "source": [
    "# Combine to train"
   ],
   "metadata": {
    "collapsed": false
   }
  },
  {
   "cell_type": "code",
   "execution_count": 24,
   "outputs": [
    {
     "name": "stdout",
     "output_type": "stream",
     "text": [
      "Created /Users/nenad.bozinovic/PycharmProjects/solar_panel/data/all_labels/train.\n",
      "Created /Users/nenad.bozinovic/PycharmProjects/solar_panel/data/all_labels/train/imgs.\n",
      "Created /Users/nenad.bozinovic/PycharmProjects/solar_panel/data/all_labels/train/masks.\n"
     ]
    }
   ],
   "source": [
    "train_folder = LABELS / 'train'\n",
    "_create_new_folders(train_folder)"
   ],
   "metadata": {
    "collapsed": false
   }
  },
  {
   "cell_type": "code",
   "execution_count": 42,
   "outputs": [],
   "source": [
    "folders_to_combine = [LABELS / 'commonpanel', LABELS / 'to_sort' / 'commonpanel']"
   ],
   "metadata": {
    "collapsed": false
   }
  },
  {
   "cell_type": "markdown",
   "source": [
    "For each folder in `folders_to_combine`, copy everything from `folder / 'imgs'` to go to `train_folder / 'imgs'`, same for `masks`:"
   ],
   "metadata": {
    "collapsed": false
   }
  },
  {
   "cell_type": "code",
   "execution_count": 41,
   "outputs": [],
   "source": [
    "for folder in folders_to_combine:\n",
    "    for subfolder in ['imgs', 'masks']:\n",
    "        src_folder = folder / subfolder\n",
    "        dst_folder = train_folder / subfolder\n",
    "        for src_filepath in src_folder.glob('*.*'):\n",
    "            shutil.copy(src_filepath, dst_folder / src_filepath.name)"
   ],
   "metadata": {
    "collapsed": false
   }
  }
 ],
 "metadata": {
  "kernelspec": {
   "name": "solar_panel",
   "language": "python",
   "display_name": "solar_panel"
  },
  "language_info": {
   "codemirror_mode": {
    "name": "ipython",
    "version": 2
   },
   "file_extension": ".py",
   "mimetype": "text/x-python",
   "name": "python",
   "nbconvert_exporter": "python",
   "pygments_lexer": "ipython2",
   "version": "2.7.6"
  }
 },
 "nbformat": 4,
 "nbformat_minor": 0
}
