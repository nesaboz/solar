{
 "cells": [
  {
   "cell_type": "markdown",
   "metadata": {},
   "source": [
    "# Solar"
   ]
  },
  {
   "cell_type": "code",
   "execution_count": null,
   "metadata": {},
   "outputs": [],
   "source": [
    "#|code-fold: true\n",
    "#|output: false\n",
    "from IPython.display import display, HTML\n",
    "display(HTML(\"<style>.container { width:80% !important; }</style>\"))\n",
    "import matplotlib.ticker as ticker\n",
    "\n",
    "import numpy as np\n",
    "import random\n",
    "from pathlib import Path\n",
    "from tqdm import tqdm\n",
    "import torch\n",
    "torch.manual_seed(10) \n",
    "import torch.optim as optim\n",
    "import torch.nn as nn\n",
    "import platform\n",
    "from PIL import Image\n",
    "from PIL.ImageStat import Stat\n",
    "import datetime\n",
    "import matplotlib.pyplot as plt\n",
    "from matplotlib import cm\n",
    "from torch.utils.data import DataLoader, Dataset, random_split, WeightedRandomSampler, SubsetRandomSampler\n",
    "from torchvision.transforms import Compose, ToTensor, Normalize, RandomApply, ColorJitter, ToPILImage\n",
    "import ipyplot\n",
    "from torchmetrics import JaccardIndex\n",
    "from torchmetrics.functional import jaccard_index\n",
    "from processing import BigImage, prep_data\n",
    "import datetime\n",
    "import json\n",
    "from constants import ROOT, RUNS_FOLDER\n",
    "\n",
    "\n",
    "from step_by_step import StepByStep, InverseNormalize, load_tensor, get_means_and_stdevs \n",
    "from categorize import check_for_missing_files, LABELS, show_image, overlay_two_images\n",
    "from models import Segnet\n",
    "plt.style.use('fivethirtyeight')\n",
    "\n",
    "from evaluate import display_images, evaluate_unlabeled\n",
    "\n",
    "def get_current_datetime():\n",
    "    return datetime.datetime.now().strftime('%Y_%m_%d_%H_%M')\n",
    "\n",
    "%load_ext autoreload\n",
    "%autoreload 2"
   ]
  },
  {
   "cell_type": "markdown",
   "metadata": {},
   "source": [
    "# Data processing"
   ]
  },
  {
   "cell_type": "code",
   "execution_count": null,
   "metadata": {},
   "outputs": [],
   "source": [
    "title_mapping = {0: 'background', 1: 'commonrack', 2: 'commonpanel', 3: 'denserack', 4: 'densepanel'}\n",
    "n_classes = len(title_mapping)\n",
    "\n",
    "jitter = ColorJitter(brightness=(0.2, 1.0), contrast=(0.3, 1.0))  # jitter will change every time it is called\n",
    "applier = RandomApply(torch.nn.ModuleList([jitter]), p=0.3)\n",
    "train_loader, val_loader, weights, n_channels, normalizer, unlabeled_tensor_x, unlabeled_tensor_y, val_composer, idx_map = prep_data(n_classes, applier)"
   ]
  },
  {
   "cell_type": "markdown",
   "metadata": {},
   "source": [
    "# Training"
   ]
  },
  {
   "cell_type": "code",
   "execution_count": null,
   "metadata": {},
   "outputs": [],
   "source": [
    "segnet = Segnet(n_channels=n_channels, n_classes=n_classes)\n",
    "optimizer = optim.Adam(segnet.parameters(), lr=3e-4)\n",
    "\n",
    "torch.manual_seed(17)\n",
    "sbs = StepByStep(segnet, optimizer, nn.CrossEntropyLoss(weight=weights))\n",
    "sbs.set_loaders(train_loader, val_loader)"
   ]
  },
  {
   "cell_type": "code",
   "execution_count": null,
   "metadata": {},
   "outputs": [],
   "source": [
    "run_name = 'five_class_segnet_all_pixels_cpu'    \n",
    "run_folder = Path(RUNS_FOLDER) / (get_current_datetime() + '_' + run_name)\n",
    "Path(run_folder).mkdir(exist_ok=True, parents=True)"
   ]
  },
  {
   "cell_type": "code",
   "execution_count": null,
   "metadata": {},
   "outputs": [],
   "source": [
    "sbs.train(50)"
   ]
  },
  {
   "cell_type": "markdown",
   "metadata": {},
   "source": [
    "# Evaluation"
   ]
  },
  {
   "cell_type": "code",
   "execution_count": null,
   "metadata": {},
   "outputs": [],
   "source": [
    "sbs.get_metric(jaccard_index)\n",
    "sbs.save_checkpoint(run_folder / (get_current_datetime() + '_' + 'checkpoint_jaccard_index_' + f'{sbs.metric:.3f}' + '.tar'))"
   ]
  },
  {
   "cell_type": "code",
   "execution_count": null,
   "metadata": {},
   "outputs": [],
   "source": [
    "val_loader_iter = iter(val_loader)"
   ]
  },
  {
   "cell_type": "code",
   "execution_count": null,
   "metadata": {},
   "outputs": [],
   "source": [
    "x_val, y_val = next(val_loader_iter)\n",
    "y_pred = sbs.predict(x_val, to_numpy=False).argmax(1)\n",
    "display_images(x_val, y_val, y_pred, normalizer)"
   ]
  },
  {
   "cell_type": "code",
   "execution_count": null,
   "metadata": {},
   "outputs": [],
   "source": [
    "evaluate_unlabeled(unlabeled_tensor_x, unlabeled_tensor_y, val_composer, normalizer, sbs, run_folder, idx_map)"
   ]
  }
 ],
 "metadata": {
  "kernelspec": {
   "display_name": "solar",
   "language": "python",
   "name": "solar"
  },
  "language_info": {
   "codemirror_mode": {
    "name": "ipython",
    "version": 3
   },
   "file_extension": ".py",
   "mimetype": "text/x-python",
   "name": "python",
   "nbconvert_exporter": "python",
   "pygments_lexer": "ipython3",
   "version": "3.10.8"
  },
  "toc": {
   "base_numbering": 1,
   "nav_menu": {},
   "number_sections": true,
   "sideBar": true,
   "skip_h1_title": false,
   "title_cell": "Table of Contents",
   "title_sidebar": "Contents",
   "toc_cell": false,
   "toc_position": {
    "height": "calc(100% - 180px)",
    "left": "10px",
    "top": "150px",
    "width": "255.781px"
   },
   "toc_section_display": true,
   "toc_window_display": true
  },
  "vscode": {
   "interpreter": {
    "hash": "aa811c586b360aab81f2a69b2a392889d9a2f680bd8f985f7b2194fd61fc63ef"
   }
  }
 },
 "nbformat": 4,
 "nbformat_minor": 4
}
